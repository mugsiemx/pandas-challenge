{
 "cells": [
  {
   "cell_type": "markdown",
   "metadata": {},
   "source": [
    "# PyCity Schools Analysis\n",
    "\n",
    "* As a whole, schools with higher budgets, did not yield better test results. By contrast, schools with higher spending 645-675 per student actually underperformed compared to schools with smaller budgets (585 per student).\n",
    "\n",
    "* As a whole, smaller and medium sized schools dramatically out-performed large sized schools on passing math performances (89-91% passing vs 67%).\n",
    "\n",
    "* As a whole, charter schools out-performed the public district schools across all metrics. However, more analysis will be required to glean if the effect is due to school practices or the fact that charter schools tend to serve smaller student populations per school. \n",
    "---"
   ]
  },
  {
   "cell_type": "code",
   "execution_count": null,
   "metadata": {},
   "outputs": [],
   "source": [
    "# Dependencies and Setup\n",
    "import pandas as pd\n",
    "\n",
    "# Files to Load\n",
    "school_data_to_load = \"Resources/schools_complete.csv\"\n",
    "student_data_to_load = \"Resources/students_complete.csv\"\n",
    "\n",
    "# Read School and Student Data File and store into Pandas DataFrames\n",
    "school_data = pd.read_csv(school_data_to_load)\n",
    "student_data = pd.read_csv(student_data_to_load)\n",
    "\n",
    "# Combine the data into a single dataset.  \n",
    "school_data_complete = pd.merge(student_data, school_data, how=\"left\", on=[\"school_name\", \"school_name\"])\n",
    "school_data_complete.head()"
   ]
  },
  {
   "cell_type": "code",
   "execution_count": null,
   "metadata": {},
   "outputs": [],
   "source": [
    "#fmi# comments are simply the author's curiosity and not part of the assignment\n",
    "\n",
    "#fmi# Verifying counts and other curious information about this data\n",
    "#school_data_complete.describe()\n",
    "school_data_complete.info()"
   ]
  },
  {
   "cell_type": "code",
   "execution_count": null,
   "metadata": {},
   "outputs": [],
   "source": [
    "#fmi# Verifying counts and other curious information about this data\n",
    "school_data_complete.describe()"
   ]
  },
  {
   "cell_type": "markdown",
   "metadata": {},
   "source": [
    "## District Summary"
   ]
  },
  {
   "cell_type": "code",
   "execution_count": null,
   "metadata": {},
   "outputs": [],
   "source": [
    "# Calculate the total number of unique schools\n",
    "school_count = len(pd.unique(school_data_complete['school_name']))\n",
    "school_count"
   ]
  },
  {
   "cell_type": "code",
   "execution_count": null,
   "metadata": {},
   "outputs": [],
   "source": [
    "# Calculate the total number of students\n",
    "student_count = school_data_complete['student_name'].count()\n",
    "student_count"
   ]
  },
  {
   "cell_type": "code",
   "execution_count": null,
   "metadata": {
    "scrolled": true
   },
   "outputs": [],
   "source": [
    "# Calculate the total budget\n",
    "total_budget = school_data['budget'].sum()\n",
    "total_budget"
   ]
  },
  {
   "cell_type": "code",
   "execution_count": null,
   "metadata": {},
   "outputs": [],
   "source": [
    "# Calculate the average (mean) math score\n",
    "average_math_score = school_data_complete['math_score'].mean()\n",
    "average_math_score"
   ]
  },
  {
   "cell_type": "code",
   "execution_count": null,
   "metadata": {},
   "outputs": [],
   "source": [
    "# Calculate the average (mean) reading score\n",
    "average_reading_score = school_data_complete['reading_score'].mean()\n",
    "average_reading_score"
   ]
  },
  {
   "cell_type": "code",
   "execution_count": null,
   "metadata": {},
   "outputs": [],
   "source": [
    "# Use the following to calculate the percentage of students who passed math (math scores greather than or equal to 70)\n",
    "passing_math_count = school_data_complete[(school_data_complete['math_score'] >= 70)].count()['student_name']\n",
    "passing_math_percentage = (passing_math_count / float(student_count)) * 100\n",
    "passing_math_percentage"
   ]
  },
  {
   "cell_type": "code",
   "execution_count": null,
   "metadata": {},
   "outputs": [],
   "source": [
    "# Calculate the percentage of students who passed reading (hint: look at how the math percentage was calculated)  \n",
    "passing_reading_count = school_data_complete[(school_data_complete['reading_score'] >= 70)].count()['student_name']\n",
    "passing_reading_percentage = (passing_reading_count / float(student_count)) * 100\n",
    "passing_reading_percentage"
   ]
  },
  {
   "cell_type": "code",
   "execution_count": null,
   "metadata": {},
   "outputs": [],
   "source": [
    "# Use the following to calculate the percentage of students that passed math and reading\n",
    "passing_math_reading_count = school_data_complete[\n",
    "    (school_data_complete['math_score'] >= 70) & (school_data_complete['reading_score'] >= 70)\n",
    "].count()['student_name']\n",
    "overall_passing_rate = (passing_math_reading_count /  float(student_count)) * 100\n",
    "overall_passing_rate"
   ]
  },
  {
   "cell_type": "code",
   "execution_count": null,
   "metadata": {},
   "outputs": [],
   "source": [
    "# Create a high-level snapshot of the district's key metrics in a DataFrame\n",
    "district_summary = pd.DataFrame([{'Total Schools': school_count,\n",
    "                                  'Total Students': student_count,\n",
    "                                  'Total Budget': total_budget,\n",
    "                                  'Average Math Score': average_math_score,\n",
    "                                  'Average Reading Score': average_reading_score,\n",
    "                                  '% Passing Math': passing_math_percentage,\n",
    "                                  '% Passing Reading': passing_reading_percentage,\n",
    "                                  '% Overall Passing': overall_passing_rate\n",
    "                                 }])\n",
    "     \n",
    "# Formatting\n",
    "    # add commas to numbers >= 1,000\n",
    "district_summary.loc[:, 'Total Students'] = district_summary['Total Students'].map('{:,d}'.format)\n",
    "    # display as currency with commas\n",
    "district_summary[\"Total Budget\"] = district_summary[\"Total Budget\"].map(\"${:,.2f}\".format)\n",
    "\n",
    "# Display the DataFrame\n",
    "district_summary"
   ]
  },
  {
   "cell_type": "markdown",
   "metadata": {},
   "source": [
    "## School Summary"
   ]
  },
  {
   "cell_type": "code",
   "execution_count": null,
   "metadata": {},
   "outputs": [],
   "source": [
    "# Use the code provided to select the school type\n",
    "school_types = school_data.set_index(['school_name'])['type']\n",
    "school_types = school_types.sort_index()\n",
    "school_types"
   ]
  },
  {
   "cell_type": "code",
   "execution_count": null,
   "metadata": {
    "scrolled": true
   },
   "outputs": [],
   "source": [
    "# Calculate the total student count per school\n",
    "per_school_counts = school_data_complete.groupby(['school_name'])['student_name'].count()\n",
    "\n",
    "per_school_counts"
   ]
  },
  {
   "cell_type": "code",
   "execution_count": null,
   "metadata": {},
   "outputs": [],
   "source": [
    "# Calculate the total school budget and per capita spending\n",
    "per_school_budget = school_data.groupby(['school_name'])['budget'].sum()\n",
    "per_school_capita = per_school_budget / per_school_counts\n",
    "\n",
    "print(per_school_budget, ('-')*10, per_school_capita,)"
   ]
  },
  {
   "cell_type": "code",
   "execution_count": null,
   "metadata": {
    "scrolled": true
   },
   "outputs": [],
   "source": [
    "# Calculate the average test scores\n",
    "per_school_math = school_data_complete.groupby(['school_name']).mean()['math_score']\n",
    "per_school_reading = school_data_complete.groupby(['school_name']).mean()['reading_score']\n",
    "\n",
    "print(per_school_math, per_school_reading)"
   ]
  },
  {
   "cell_type": "code",
   "execution_count": null,
   "metadata": {},
   "outputs": [],
   "source": [
    "#fmi# visual verification of my count\n",
    "per_school_math.describe()"
   ]
  },
  {
   "cell_type": "code",
   "execution_count": null,
   "metadata": {
    "scrolled": true
   },
   "outputs": [],
   "source": [
    "# Calculate the number of schools with math scores of 70 or higher\n",
    "school_passing_math = (school_data_complete[(school_data_complete['math_score'] >= 70)]).groupby(['school_name'])['student_name'].count()\n",
    "school_passing_math_number = len(school_passing_math)\n",
    "\n",
    "# LIST of number of students per school passing math\n",
    "school_passing_math = (school_data_complete[(school_data_complete['math_score'] >= 70)]).groupby(['school_name'])['student_name'].count()\n",
    "\n",
    "#school_passing_math_number\n",
    "school_passing_math_number, school_passing_math"
   ]
  },
  {
   "cell_type": "code",
   "execution_count": null,
   "metadata": {},
   "outputs": [],
   "source": [
    "# Calculate the number of schools with reading scores of 70 or higher\n",
    "school_passing_reading = (school_data_complete[(school_data_complete['reading_score'] >= 70)]).groupby(['school_name'])['student_name'].count()\n",
    "school_passing_reading_number = len(school_passing_reading)\n",
    "\n",
    "# LIST of number of students per school passing reading\n",
    "school_passing_reading = (school_data_complete[(school_data_complete['reading_score'] >= 70)]).groupby(['school_name'])['student_name'].count()\n",
    "\n",
    "#school_passing_reading_number\n",
    "school_passing_reading_number, school_passing_reading"
   ]
  },
  {
   "cell_type": "code",
   "execution_count": null,
   "metadata": {},
   "outputs": [],
   "source": [
    "# Use the provided code to calculate the schools that passed both math and reading with scores of 70 or higher\n",
    "passing_math_and_reading = (school_data_complete[\n",
    "    (school_data_complete[\"reading_score\"] >= 70) & (school_data_complete[\"math_score\"] >= 70)\n",
    "]).groupby([\"school_name\"]).count()\n",
    "passing_math_and_reading_number = len(passing_math_and_reading)\n",
    "\n",
    "# LIST of number of students per school passing math and reading\n",
    "passing_math_and_reading = (school_data_complete[\n",
    "    (school_data_complete[\"reading_score\"] >= 70) & (school_data_complete[\"math_score\"] >= 70)\n",
    "]).groupby([\"school_name\"]).count()['student_name']\n",
    "\n",
    "#passing_math_and_reading_number\n",
    "passing_math_and_reading_number, passing_math_and_reading"
   ]
  },
  {
   "cell_type": "code",
   "execution_count": null,
   "metadata": {},
   "outputs": [],
   "source": [
    "# Use the provided code to calculate the passing rates (code moved to above 3 cells of code with the school counts)\n",
    "\n",
    "per_school_passing_math = (school_passing_math / per_school_counts) * 100\n",
    "per_school_passing_reading = (school_passing_reading / per_school_counts) * 100\n",
    "overall_passing_rate = (passing_math_and_reading / per_school_counts) * 100\n",
    "\n",
    "per_school_passing_math, per_school_passing_reading , overall_passing_rate"
   ]
  },
  {
   "cell_type": "code",
   "execution_count": null,
   "metadata": {},
   "outputs": [],
   "source": [
    "# Create a DataFrame called `per_school_summary` with columns for the calculations above.\n",
    "per_school_summary = pd.DataFrame({'School Type': school_types,\n",
    "                                    'Total Students': per_school_counts,\n",
    "                                    'Total School Budget': per_school_budget,\n",
    "                                    'Per Student Budget': per_school_capita,\n",
    "                                    'Average Math Score': per_school_math,\n",
    "                                    'Average Reading Score': per_school_reading,\n",
    "                                    '% Passing Math': per_school_passing_math,\n",
    "                                    '% Passing Reading': per_school_passing_reading,\n",
    "                                    '% Overall Passing': overall_passing_rate,\n",
    "                                   })\n",
    "# Formatting\n",
    "per_school_summary['Total School Budget'] = per_school_summary['Total School Budget'].map('${:,.2f}'.format)\n",
    "per_school_summary['Per Student Budget'] = per_school_summary['Per Student Budget'].map('${:,.2f}'.format)\n",
    "\n",
    "# Display the DataFrame\n",
    "per_school_summary"
   ]
  },
  {
   "cell_type": "markdown",
   "metadata": {},
   "source": [
    "## Highest-Performing Schools (by % Overall Passing)"
   ]
  },
  {
   "cell_type": "code",
   "execution_count": null,
   "metadata": {
    "scrolled": true
   },
   "outputs": [],
   "source": [
    "# Sort the schools by `% Overall Passing` in descending order and display the top 5 rows.\n",
    "per_school_summary = per_school_summary.sort_values('% Overall Passing', ascending=False )\n",
    "    # export the analysis to a csv file\n",
    "per_school_summary.to_csv(\"analysis/top_schools.csv\", index=True, header = True)\n",
    "\n",
    "per_school_summary.head()"
   ]
  },
  {
   "cell_type": "markdown",
   "metadata": {},
   "source": [
    "## Bottom Performing Schools (By % Overall Passing)"
   ]
  },
  {
   "cell_type": "code",
   "execution_count": null,
   "metadata": {},
   "outputs": [],
   "source": [
    "# Sort the schools by `% Overall Passing` in ascending order and display the top 5 rows.\n",
    "per_school_summary = per_school_summary.sort_values('% Overall Passing', ascending=True )\n",
    "    # export the analysis to a csv file\n",
    "per_school_summary.to_csv(\"analysis/bottom_schools.csv\", index=True, header = True)\n",
    "\n",
    "per_school_summary.head()"
   ]
  },
  {
   "cell_type": "markdown",
   "metadata": {},
   "source": [
    "## Math Scores by Grade"
   ]
  },
  {
   "cell_type": "code",
   "execution_count": null,
   "metadata": {},
   "outputs": [],
   "source": [
    "# Use the code provided to separate the data by grade\n",
    "ninth_graders = school_data_complete[(school_data_complete[\"grade\"] == \"9th\")]\n",
    "tenth_graders = school_data_complete[(school_data_complete[\"grade\"] == \"10th\")]\n",
    "eleventh_graders = school_data_complete[(school_data_complete[\"grade\"] == \"11th\")]\n",
    "twelfth_graders = school_data_complete[(school_data_complete[\"grade\"] == \"12th\")]\n",
    "\n",
    "# Group by \"school_name\" and take the mean of each.\n",
    "ninth_graders_scores = ninth_graders.groupby(['school_name']).mean()\n",
    "tenth_graders_scores = tenth_graders.groupby(['school_name']).mean()\n",
    "eleventh_graders_scores = eleventh_graders.groupby(['school_name']).mean()\n",
    "twelfth_graders_scores = twelfth_graders.groupby(['school_name']).mean()\n",
    "\n",
    "# Use the code to select only the `math_score`.\n",
    "ninth_grader_math_scores = ninth_graders_scores['math_score']\n",
    "tenth_grader_math_scores = tenth_graders_scores['math_score']\n",
    "eleventh_grader_math_scores = eleventh_graders_scores['math_score']\n",
    "twelfth_grader_math_scores = twelfth_graders_scores['math_score']\n",
    "\n",
    "# Combine each of the scores above into single DataFrame called `math_scores_by_grade`\n",
    "math_scores_by_grade = pd.DataFrame({'9th': ninth_grader_math_scores,\n",
    "                                      '10th': tenth_grader_math_scores,\n",
    "                                      '11th': eleventh_grader_math_scores,\n",
    "                                      '12th': twelfth_grader_math_scores,\n",
    "                                    })\n",
    "\n",
    "# Minor data wrangling\n",
    "math_scores_by_grade.index.name = None\n",
    "\n",
    "# Display the DataFrame\n",
    "math_scores_by_grade"
   ]
  },
  {
   "cell_type": "markdown",
   "metadata": {},
   "source": [
    "## Reading Score by Grade "
   ]
  },
  {
   "cell_type": "code",
   "execution_count": null,
   "metadata": {},
   "outputs": [],
   "source": [
    "# Use the code provided to separate the data by grade\n",
    "ninth_graders = school_data_complete[(school_data_complete[\"grade\"] == \"9th\")]\n",
    "tenth_graders = school_data_complete[(school_data_complete[\"grade\"] == \"10th\")]\n",
    "eleventh_graders = school_data_complete[(school_data_complete[\"grade\"] == \"11th\")]\n",
    "twelfth_graders = school_data_complete[(school_data_complete[\"grade\"] == \"12th\")]\n",
    "\n",
    "# Group by \"school_name\" and take the mean of each.\n",
    "ninth_graders_scores = ninth_graders.groupby(['school_name']).mean()\n",
    "tenth_graders_scores = tenth_graders.groupby(['school_name']).mean()\n",
    "eleventh_graders_scores = eleventh_graders.groupby(['school_name']).mean()\n",
    "twelfth_graders_scores = twelfth_graders.groupby(['school_name']).mean()\n",
    "\n",
    "# Use the code to select only the `reading_score`.\n",
    "ninth_grader_reading_scores = ninth_graders_scores['reading_score']\n",
    "tenth_grader_reading_scores = tenth_graders_scores['reading_score']\n",
    "eleventh_grader_reading_scores = eleventh_graders_scores['reading_score']\n",
    "twelfth_grader_reading_scores = twelfth_graders_scores['reading_score']\n",
    "\n",
    "# Combine each of the scores above into single DataFrame called `reading_scores_by_grade`\n",
    "reading_scores_by_grade = pd.DataFrame({'9th': ninth_grader_reading_scores,\n",
    "                                      '10th': tenth_grader_reading_scores,\n",
    "                                      '11th': eleventh_grader_reading_scores,\n",
    "                                      '12th': twelfth_grader_reading_scores,\n",
    "                                    })\n",
    "\n",
    "##FOR CLASS DISCUSSION\n",
    "#----------------------\n",
    "#reading_scores_by_grade = pd.DataFrame(list(zip(\n",
    "#                                                ninth_grader_reading_scores,\n",
    "#                                                tenth_grader_reading_scores,\n",
    "#                                                eleventh_grader_reading_scores,\n",
    "#                                                twelfth_grader_reading_scores,\n",
    "#                                               )))                                    \n",
    "#reading_scores_by_grade.columns = ['9th', '10th', '11th', '12th']\n",
    "#----------------------\n",
    "\n",
    "# Minor data wrangling\n",
    "reading_scores_by_grade.index.name = None\n",
    "\n",
    "# Display the DataFrame\n",
    "reading_scores_by_grade"
   ]
  },
  {
   "cell_type": "markdown",
   "metadata": {},
   "source": [
    "## Scores by School Spending"
   ]
  },
  {
   "cell_type": "code",
   "execution_count": null,
   "metadata": {},
   "outputs": [],
   "source": [
    "# Establish the bins \n",
    "spending_bins = [0, 585, 630, 645, 680]\n",
    "labels = [\"<$585\", \"$585-629\", \"$630-644\", \"$645-680\"]"
   ]
  },
  {
   "cell_type": "code",
   "execution_count": null,
   "metadata": {},
   "outputs": [],
   "source": [
    "# Create a copy of the school summary since it has the \"Per Student Budget\" \n",
    "school_spending_df = per_school_summary.copy()"
   ]
  },
  {
   "cell_type": "code",
   "execution_count": null,
   "metadata": {
    "scrolled": true
   },
   "outputs": [],
   "source": [
    "#fmi# checking the data\n",
    "school_spending_df.head(), print(school_spending_df['Per Student Budget'].min()), print(school_spending_df['Per Student Budget'].max())"
   ]
  },
  {
   "cell_type": "code",
   "execution_count": null,
   "metadata": {},
   "outputs": [],
   "source": [
    "# reformat the currency type of Per Student Budget\n",
    "school_spending_df['Per Student Budget'] = school_spending_df['Per Student Budget'].fillna(0.00).str.replace('[$,]', '').astype('float')\n",
    "\n",
    "print(school_spending_df['Per Student Budget'])"
   ]
  },
  {
   "cell_type": "code",
   "execution_count": null,
   "metadata": {},
   "outputs": [],
   "source": [
    "#fmi# test cut first\n",
    "# Use `pd.cut` to categorize spending based on the bins\n",
    "pd.cut(school_spending_df['Per Student Budget'], spending_bins, labels=labels).head()"
   ]
  },
  {
   "cell_type": "code",
   "execution_count": null,
   "metadata": {},
   "outputs": [],
   "source": [
    "# Use `pd.cut` to categorize spending based on the bins.\n",
    "school_spending_df['Spending Ranges (Per Student)'] = pd.cut(school_spending_df['Per Student Budget'], spending_bins, labels=labels)\n",
    "school_spending_df.sort_index(inplace=True)\n",
    "school_spending_df"
   ]
  },
  {
   "cell_type": "code",
   "execution_count": null,
   "metadata": {},
   "outputs": [],
   "source": [
    "#  Calculate averages for the desired columns(scores for math, reading, %s passing math, reading, and overall). \n",
    "spending_math_scores = school_spending_df.groupby([\"Spending Ranges (Per Student)\"]).mean()[\"Average Math Score\"]\n",
    "spending_reading_scores = school_spending_df.groupby([\"Spending Ranges (Per Student)\"]).mean()[\"Average Reading Score\"]\n",
    "spending_passing_math = school_spending_df.groupby([\"Spending Ranges (Per Student)\"]).mean()[\"% Passing Math\"]\n",
    "spending_passing_reading = school_spending_df.groupby([\"Spending Ranges (Per Student)\"]).mean()[\"% Passing Reading\"]\n",
    "overall_passing_spending = school_spending_df.groupby([\"Spending Ranges (Per Student)\"]).mean()[\"% Overall Passing\"]"
   ]
  },
  {
   "cell_type": "code",
   "execution_count": null,
   "metadata": {},
   "outputs": [],
   "source": [
    "# Assemble into DataFrame\n",
    "spending_summary = pd.DataFrame({'Average Math Score': spending_math_scores,\n",
    "                                 'Average Reading Score': spending_reading_scores,\n",
    "                                 '% Passing Math': spending_passing_math,\n",
    "                                 '% Passing Reading': spending_passing_reading,\n",
    "                                 '% Overall Passing': overall_passing_spending,\n",
    "                                    })\n",
    "# Display results\n",
    "spending_summary"
   ]
  },
  {
   "cell_type": "markdown",
   "metadata": {},
   "source": [
    "## Scores by School Size"
   ]
  },
  {
   "cell_type": "code",
   "execution_count": null,
   "metadata": {},
   "outputs": [],
   "source": [
    "# Establish the bins.\n",
    "size_bins = [0, 1000, 2000, 5000]\n",
    "labels = [\"Small (<1000)\", \"Medium (1000-2000)\", \"Large (2000-5000)\"]"
   ]
  },
  {
   "cell_type": "code",
   "execution_count": null,
   "metadata": {},
   "outputs": [],
   "source": [
    "# Create a clean copy of the school summary for the \"Per School Student Count\" \n",
    "school_spending_df = per_school_summary.copy()"
   ]
  },
  {
   "cell_type": "code",
   "execution_count": null,
   "metadata": {},
   "outputs": [],
   "source": [
    "#fmi# test cut\n",
    "pd.cut(school_spending_df['Total Students'], size_bins, labels=labels)"
   ]
  },
  {
   "cell_type": "code",
   "execution_count": null,
   "metadata": {},
   "outputs": [],
   "source": [
    "# Categorize the spending based on the bins\n",
    "# Use `pd.cut` on the \"Total Students\" column of the `per_school_summary` DataFrame.\n",
    "per_school_summary['School Size'] = pd.cut(school_spending_df['Total Students'], size_bins, labels=labels)\n",
    "per_school_summary.sort_index(inplace=True)\n",
    "per_school_summary"
   ]
  },
  {
   "cell_type": "code",
   "execution_count": null,
   "metadata": {},
   "outputs": [],
   "source": [
    "# Calculate averages for the desired columns. \n",
    "size_math_scores = per_school_summary.groupby([\"School Size\"]).mean()[\"Average Math Score\"]\n",
    "size_reading_scores = per_school_summary.groupby([\"School Size\"]).mean()[\"Average Reading Score\"]\n",
    "size_passing_math = per_school_summary.groupby([\"School Size\"]).mean()[\"% Passing Math\"]\n",
    "size_passing_reading = per_school_summary.groupby([\"School Size\"]).mean()[\"% Passing Reading\"]\n",
    "size_overall_passing = per_school_summary.groupby([\"School Size\"]).mean()[\"% Overall Passing\"]"
   ]
  },
  {
   "cell_type": "code",
   "execution_count": null,
   "metadata": {
    "scrolled": true
   },
   "outputs": [],
   "source": [
    "# Create a DataFrame called `size_summary` that breaks down school performance based on school size (small, medium, or large).\n",
    "# Use the scores above to create a new DataFrame called `size_summary`\n",
    "size_summary = pd.DataFrame({'Average Math Score': size_math_scores,\n",
    "                                   'Average Reading Score': size_reading_scores,\n",
    "                                   '% Passing Math': size_passing_math,\n",
    "                                   '% Passing Reading': size_passing_reading,\n",
    "                                   '% Overall Passing': size_overall_passing,\n",
    "                                  })\n",
    "# Display results\n",
    "size_summary"
   ]
  },
  {
   "cell_type": "markdown",
   "metadata": {},
   "source": [
    "## Scores by School Type"
   ]
  },
  {
   "cell_type": "code",
   "execution_count": null,
   "metadata": {},
   "outputs": [],
   "source": [
    "#fmi# find details about file\n",
    "per_school_summary.info()"
   ]
  },
  {
   "cell_type": "code",
   "execution_count": null,
   "metadata": {},
   "outputs": [],
   "source": [
    "# Group the per_school_summary DataFrame by \"School Type\" and average the results.\n",
    "type_math_scores = per_school_summary.groupby(['School Type']).mean()['Average Math Score']\n",
    "type_reading_scores = per_school_summary.groupby(['School Type']).mean()['Average Reading Score']\n",
    "type_passing_math = per_school_summary.groupby(['School Type']).mean()['% Passing Math']\n",
    "type_passing_reading = per_school_summary.groupby(['School Type']).mean()['% Passing Reading']\n",
    "type_overall_passing = per_school_summary.groupby(['School Type']).mean()['% Overall Passing']\n",
    "\n",
    "# Use the code provided to select new column data\n",
    "average_math_score_by_type = type_math_scores #['Average Math Score']\n",
    "average_reading_score_by_type = type_reading_scores #['Average Reading Score']\n",
    "average_percent_passing_math_by_type = type_passing_math #['% Passing Math']\n",
    "average_percent_passing_reading_by_type = type_passing_reading #['% Passing Reading']\n",
    "average_percent_overall_passing_by_type = type_overall_passing #['% Overall Passing']"
   ]
  },
  {
   "cell_type": "code",
   "execution_count": null,
   "metadata": {},
   "outputs": [],
   "source": [
    "# Assemble the new data by type into a DataFrame called `type_summary`\n",
    "type_summary = pd.DataFrame({'Average Math Score': average_math_score_by_type,\n",
    "                                   'Average Reading Score': average_reading_score_by_type,\n",
    "                                   '% Passing Math': average_percent_passing_math_by_type,\n",
    "                                   '% Passing Reading': average_percent_passing_reading_by_type,\n",
    "                                   '% Overall Passing': average_percent_overall_passing_by_type,\n",
    "                                  })\n",
    "# Display results\n",
    "type_summary"
   ]
  },
  {
   "cell_type": "code",
   "execution_count": null,
   "metadata": {},
   "outputs": [],
   "source": []
  }
 ],
 "metadata": {
  "anaconda-cloud": {},
  "kernel_info": {
   "name": "python3"
  },
  "kernelspec": {
   "display_name": "PythonData",
   "language": "python",
   "name": "pythondata"
  },
  "language_info": {
   "codemirror_mode": {
    "name": "ipython",
    "version": 3
   },
   "file_extension": ".py",
   "mimetype": "text/x-python",
   "name": "python",
   "nbconvert_exporter": "python",
   "pygments_lexer": "ipython3",
   "version": "3.7.7"
  },
  "latex_envs": {
   "LaTeX_envs_menu_present": true,
   "autoclose": false,
   "autocomplete": true,
   "bibliofile": "biblio.bib",
   "cite_by": "apalike",
   "current_citInitial": 1,
   "eqLabelWithNumbers": true,
   "eqNumInitial": 1,
   "hotkeys": {
    "equation": "Ctrl-E",
    "itemize": "Ctrl-I"
   },
   "labels_anchors": false,
   "latex_user_defs": false,
   "report_style_numbering": false,
   "user_envs_cfg": false
  },
  "nteract": {
   "version": "0.8.4"
  }
 },
 "nbformat": 4,
 "nbformat_minor": 4
}
